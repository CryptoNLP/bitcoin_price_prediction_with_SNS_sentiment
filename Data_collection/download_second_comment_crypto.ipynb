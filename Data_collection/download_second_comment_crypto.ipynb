{
 "cells": [
  {
   "cell_type": "code",
   "execution_count": null,
   "id": "d7d42696",
   "metadata": {},
   "outputs": [],
   "source": [
    "import praw\n",
    "import pandas as pd\n",
    "from time import strptime\n",
    "from praw.models import MoreComments\n",
    "import re\n",
    "import ast\n",
    "from tqdm import tqdm\n",
    "# pd.set_option('display.max_rows', None)\n",
    "\n",
    "import pickle"
   ]
  },
  {
   "cell_type": "code",
   "execution_count": null,
   "id": "8cece149",
   "metadata": {},
   "outputs": [],
   "source": [
    "#개인정보보호를 위해 변경\n",
    "reddit = praw.Reddit(client_id='client_id', \n",
    "                     client_secret='client_secret', \n",
    "                     user_agent='user_agent') "
   ]
  },
  {
   "cell_type": "code",
   "execution_count": null,
   "id": "de45c709",
   "metadata": {},
   "outputs": [],
   "source": [
    "with open(\"../Data/list_url_crypto.pkl\", 'rb') as f:\n",
    "    list_daily = pickle.load(f)"
   ]
  },
  {
   "cell_type": "code",
   "execution_count": null,
   "id": "784d9269",
   "metadata": {
    "scrolled": true
   },
   "outputs": [],
   "source": [
    "list_daily.sort()\n",
    "list_daily[-1]"
   ]
  },
  {
   "cell_type": "code",
   "execution_count": null,
   "id": "affc35ed",
   "metadata": {},
   "outputs": [],
   "source": [
    "dict_all = {}\n",
    "\n",
    "for i in tqdm(list_daily[1372:]): #원하는 숫자부터\n",
    "    list_data = []\n",
    "    submission = reddit.submission(id = i[1]) #게시물 ID 입력\n",
    "    submission.comments.replace_more(limit=None)\n",
    "    for top_level_comment in submission.comments:\n",
    "        for second_level_comment in top_level_comment.replies:\n",
    "            list_data.append(second_level_comment.body)\n",
    "    dict_all[i[0]] = list_data"
   ]
  },
  {
   "cell_type": "code",
   "execution_count": null,
   "id": "2e467983",
   "metadata": {
    "scrolled": true
   },
   "outputs": [],
   "source": [
    "df_all = pd.DataFrame(dict([ (k,pd.Series(v)) for k,v in dict_all.items() ]))\n",
    "df_all"
   ]
  },
  {
   "cell_type": "code",
   "execution_count": null,
   "id": "5b13ac30",
   "metadata": {},
   "outputs": [],
   "source": [
    "df_all.count()"
   ]
  },
  {
   "cell_type": "code",
   "execution_count": null,
   "id": "0108385b",
   "metadata": {},
   "outputs": [],
   "source": [
    "df_all.to_csv(\"second_comment_crypto_7.csv\")\n",
    "df_all.to_excel(\"second_comment_crypto_7.xlsx\")"
   ]
  },
  {
   "cell_type": "markdown",
   "id": "23ccbc51",
   "metadata": {},
   "source": [
    "# 연도별로 나누기"
   ]
  },
  {
   "cell_type": "code",
   "execution_count": null,
   "id": "a453862b",
   "metadata": {},
   "outputs": [],
   "source": [
    "list_2017 = [x for x in list_daily if \"2017\" in x[0]]\n",
    "list_2018 = [x for x in list_daily if \"2018\" in x[0]]\n",
    "list_2019 = [x for x in list_daily if \"2019\" in x[0]]\n",
    "list_2020 = [x for x in list_daily if \"2020\" in x[0]]\n",
    "list_2021 = [x for x in list_daily if \"2021\" in x[0]]"
   ]
  },
  {
   "cell_type": "code",
   "execution_count": null,
   "id": "c31bf448",
   "metadata": {},
   "outputs": [],
   "source": [
    "list_all = [list_2017, list_2018, list_2019, list_2020, list_2021]"
   ]
  },
  {
   "cell_type": "code",
   "execution_count": null,
   "id": "63915b2a",
   "metadata": {},
   "outputs": [],
   "source": [
    "for index, i in enumerate(list_all):\n",
    "    with open(\"list_20\"+str(index+17)+\"_crypto.txt\", \"w\") as output:\n",
    "        output.write(str(i))"
   ]
  }
 ],
 "metadata": {
  "kernelspec": {
   "display_name": "Python 3",
   "language": "python",
   "name": "python3"
  },
  "language_info": {
   "codemirror_mode": {
    "name": "ipython",
    "version": 3
   },
   "file_extension": ".py",
   "mimetype": "text/x-python",
   "name": "python",
   "nbconvert_exporter": "python",
   "pygments_lexer": "ipython3",
   "version": "3.8.10"
  }
 },
 "nbformat": 4,
 "nbformat_minor": 5
}
